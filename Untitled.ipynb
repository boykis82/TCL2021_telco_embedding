{
 "cells": [
  {
   "cell_type": "code",
   "execution_count": 1,
   "id": "defined-jersey",
   "metadata": {},
   "outputs": [],
   "source": [
    "import pandas as pd\n",
    "import os\n",
    "import textlib as tl\n",
    "import argparse\n",
    "\n",
    "from eunjeon import Mecab"
   ]
  },
  {
   "cell_type": "code",
   "execution_count": null,
   "id": "variable-syracuse",
   "metadata": {},
   "outputs": [],
   "source": [
    "raw_dataset_file_name = 'D:/data/SOR/sor_dataset.xlsx'\n",
    "tokenized_dataset_file_name = 'D:/data/SOR/sor_dataset_tokenized.xlsx'\n"
   ]
  },
  {
   "cell_type": "code",
   "execution_count": null,
   "id": "eight-woman",
   "metadata": {},
   "outputs": [],
   "source": [
    "def create_tokenized_sentence_file(raw_file_name, out_file_name, tokenizer):    \n",
    "    print(f'Tokenizing을 시작합니다. {raw_file_name}')\n",
    "    with open(raw_file_name, 'r', encoding='utf-8') as fi, \\\n",
    "        open(out_file_name, 'w', encoding='utf-8') as fo :\n",
    "        for i, sentence in enumerate(fi):\n",
    "            tokenized_words = tokenizer.morphs(sentence.replace('\\n', '').strip())\n",
    "            fo.writelines(' '.join(tokenized_words) + '\\n')\n",
    "            \n",
    "            if i % 10000 == 0 and i > 0:\n",
    "                print(f'{i} 번째 tokenizing이 완료되었습니다.')\n",
    "    \n",
    "    print(f'Tokenizing이 완료되었습니다. {out_file_name}')"
   ]
  },
  {
   "cell_type": "code",
   "execution_count": null,
   "id": "imported-vulnerability",
   "metadata": {},
   "outputs": [],
   "source": [
    "create_tokenized_sentence_file(\n",
    "    raw_dataset_file_name, tokenized_dataset_file_name, Mecab())"
   ]
  }
 ],
 "metadata": {
  "kernelspec": {
   "display_name": "tf",
   "language": "python",
   "name": "tf"
  },
  "language_info": {
   "codemirror_mode": {
    "name": "ipython",
    "version": 3
   },
   "file_extension": ".py",
   "mimetype": "text/x-python",
   "name": "python",
   "nbconvert_exporter": "python",
   "pygments_lexer": "ipython3",
   "version": "3.6.12"
  }
 },
 "nbformat": 4,
 "nbformat_minor": 5
}
