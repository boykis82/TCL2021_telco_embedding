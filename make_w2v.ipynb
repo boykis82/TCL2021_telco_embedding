{
 "cells": [
  {
   "cell_type": "code",
   "execution_count": 2,
   "id": "polish-measure",
   "metadata": {},
   "outputs": [],
   "source": [
    "import multiprocessing\n",
    "\n",
    "\n",
    "# my lib\n",
    "import textlib as tl\n",
    "import Word2VecModel as wv"
   ]
  },
  {
   "cell_type": "code",
   "execution_count": 3,
   "id": "interim-yahoo",
   "metadata": {},
   "outputs": [],
   "source": [
    "WORKERS = multiprocessing.cpu_count() - 1"
   ]
  },
  {
   "cell_type": "code",
   "execution_count": 4,
   "id": "stuck-empty",
   "metadata": {},
   "outputs": [],
   "source": [
    "# input / output file name\n",
    "corpora_file_name = 'D:/dataset/telco_corpora.dat'\n",
    "w2v_model_file_name_prefix = f'D:/dataset/w2v/telco_w2v_'"
   ]
  },
  {
   "cell_type": "code",
   "execution_count": 5,
   "id": "novel-visitor",
   "metadata": {
    "scrolled": true
   },
   "outputs": [],
   "source": [
    "# 여러개의 w2v 모델을 만들기 위한 table\n",
    "MODEL_COUNT = 9\n",
    "W2V_TRAIN_PARAMS = {\n",
    "    'MODEL_NAME': ['V10000_E100_W3_E50','V10000_E100_W5_E50','V10000_E100_W7_E50',\n",
    "                   'V10000_E200_W3_E50','V10000_E200_W5_E50','V10000_E200_W7_E50',\n",
    "                   'V10000_E300_W3_E50','V10000_E300_W5_E50','V10000_E300_W7_E50'],\n",
    "    'MAX_VOCAB_SIZE': [10000] * MODEL_COUNT,\n",
    "    'EMBEDDING_SIZE': [100,100,100,200,200,200,300,300,300],\n",
    "    'WINDOW_SIZE' : [3,5,7,3,5,7,3,5,7],\n",
    "    'EPOCHS': [50] * MODEL_COUNT\n",
    "}\n",
    "\n",
    "# parameter 잘못 넣었는지 검증\n",
    "assert len(W2V_TRAIN_PARAMS['MODEL_NAME']) == MODEL_COUNT\n",
    "assert len(W2V_TRAIN_PARAMS['MAX_VOCAB_SIZE']) == MODEL_COUNT\n",
    "assert len(W2V_TRAIN_PARAMS['EMBEDDING_SIZE']) == MODEL_COUNT\n",
    "assert len(W2V_TRAIN_PARAMS['WINDOW_SIZE']) == MODEL_COUNT\n",
    "assert len(W2V_TRAIN_PARAMS['EPOCHS']) == MODEL_COUNT"
   ]
  },
  {
   "cell_type": "code",
   "execution_count": 6,
   "id": "golden-rotation",
   "metadata": {},
   "outputs": [],
   "source": [
    "def create_multi_w2v_model(model_count, params):\n",
    "    for i, (model_name, max_vocab_size, embedding_size, window_size, epochs) in \\\n",
    "            enumerate(zip(params['MODEL_NAME'],\n",
    "                          params['MAX_VOCAB_SIZE'],\n",
    "                          params['EMBEDDING_SIZE'],\n",
    "                          params['WINDOW_SIZE'],\n",
    "                          params['EPOCHS'])):\n",
    "        print(f'---- {i} 시작!! ----')\n",
    "        w2v_model = wv.Word2VecModel()\n",
    "        w2v_model.create(corpora_file_name, \n",
    "                           w2v_model_file_name_prefix + model_name, \n",
    "                           max_vocab_size=max_vocab_size, \n",
    "                           embedding_size=embedding_size,\n",
    "                           epochs=epochs,\n",
    "                           window=window_size,\n",
    "                           workers=WORKERS)    \n",
    "        \n",
    "        if i + 1 >= model_count:\n",
    "            break"
   ]
  },
  {
   "cell_type": "code",
   "execution_count": 7,
   "id": "golden-marshall",
   "metadata": {},
   "outputs": [
    {
     "name": "stdout",
     "output_type": "stream",
     "text": [
      "---- 0 시작!! ----\n",
      "10000개의 단어 내에서 최소 빈도수는 43입니다.\n"
     ]
    }
   ],
   "source": [
    "# 테스트로 하나만 만들자.\n",
    "model_create_count = 1\n",
    "create_multi_w2v_model(model_create_count, W2V_TRAIN_PARAMS)"
   ]
  },
  {
   "cell_type": "code",
   "execution_count": 8,
   "id": "organized-geology",
   "metadata": {},
   "outputs": [
    {
     "name": "stdout",
     "output_type": "stream",
     "text": [
      "10086\n",
      "10086\n",
      "10086\n",
      "채널\n",
      "83\n",
      "[-0.86657643 -0.98315769 -0.7253235   0.00111035  0.38903692 -0.36790097\n",
      " -0.0894493  -0.24307919  0.62462342 -0.64359999 -0.60949004 -0.28189212\n",
      "  0.10141974  0.04723486  0.10617806 -0.38435671 -0.06178945  0.34719139\n",
      " -0.0787686  -0.37400493  0.30089563  0.07211375 -0.30796221 -0.83016247\n",
      "  0.12074362  0.31220281 -0.30259672 -0.24050443 -0.07572179  0.11171935\n",
      "  0.110025   -0.46797606  0.43022606 -0.76450604 -0.72874886  0.18232857\n",
      "  0.30982938 -0.68525016 -0.17264126 -0.35886112  0.07418388 -0.62172979\n",
      " -0.14062409 -0.26347929  0.36110711 -0.32419255 -0.16927409 -0.49756539\n",
      " -1.01490712 -0.14805599  0.03516015  0.31928185 -0.32309985  0.27387601\n",
      " -0.20204893 -0.28384915  0.09221364  0.10028678  0.16869949  0.48547807\n",
      "  0.24732609  0.18489729 -0.3441678   0.14106931 -0.00362062 -0.52048945\n",
      " -0.16203591 -0.27741349 -0.14308837  0.13238361 -0.17349912 -0.72280294\n",
      " -0.27882928  0.42570707  0.90160781  0.1893689   0.46965584  0.63614595\n",
      " -0.38009492 -0.30668283 -0.77421886  0.01692444  0.02176515  0.48314747\n",
      "  0.06656313 -0.45461765 -0.40940726  0.10216404 -0.44526827  0.73314327\n",
      " -0.67160159  0.02280135 -0.28443348  0.17174424 -0.35787281  0.34880653\n",
      " -0.10186525  0.01067747  0.0646119  -0.19961359]\n",
      "[-0.21353355 -0.2422604  -0.17872734  0.0002736   0.09586279 -0.09065467\n",
      " -0.02204125 -0.05989727  0.15391378 -0.15858981 -0.15018476 -0.06946118\n",
      "  0.02499089  0.01163917  0.02616339 -0.09470954 -0.01522557  0.08555161\n",
      " -0.01940941 -0.09215875  0.07414385  0.01776959 -0.07588513 -0.20456077\n",
      "  0.0297525   0.07693006 -0.07456301 -0.05926282 -0.01865864  0.02752882\n",
      "  0.02711132 -0.11531423  0.10601223 -0.18838233 -0.17957139  0.04492768\n",
      "  0.07634522 -0.16885285 -0.04254062 -0.08842716  0.01827969 -0.15320076\n",
      " -0.03465126 -0.06492407  0.08898059 -0.07988446 -0.04171092 -0.12260535\n",
      " -0.25008379 -0.03648255  0.00866383  0.07867441 -0.0796152   0.06748593\n",
      " -0.04978698 -0.06994342  0.02272241  0.02471172  0.04156933  0.1196269\n",
      "  0.06094375  0.04556064 -0.08480657  0.03476096 -0.00089216 -0.12825408\n",
      " -0.03992735 -0.0683576  -0.03525848  0.03262072 -0.04275201 -0.17810625\n",
      " -0.06870647  0.1048987   0.22216565  0.04666249  0.11572814  0.15675305\n",
      " -0.09365939 -0.07556987 -0.19077567  0.00417036  0.00536316  0.11905262\n",
      "  0.01640186 -0.11202257 -0.10088226  0.02517429 -0.10971879  0.18065422\n",
      " -0.1654897   0.00561849 -0.0700874   0.04231959 -0.08818363  0.0859496\n",
      " -0.02510067  0.00263104  0.01592105 -0.04918689]\n"
     ]
    }
   ],
   "source": [
    "# 테스트로 0번째 모델 한번 가져와보자.\n",
    "i = 0\n",
    "w2v_model = wv.Word2VecModel()\n",
    "w2v_model.load(w2v_model_file_name_prefix + W2V_TRAIN_PARAMS['MODEL_NAME'][i])\n",
    "\n",
    "print( len(w2v_model.index2word) )\n",
    "print( len(w2v_model.word2index) )\n",
    "print( len(w2v_model.weight) )\n",
    "\n",
    "print( w2v_model.index2word[200] )\n",
    "print( w2v_model.word2index['약정'] )\n",
    "print( w2v_model.weight[2583] )\n",
    "print( w2v_model.norm_weight[2583] )"
   ]
  }
 ],
 "metadata": {
  "kernelspec": {
   "display_name": "tf",
   "language": "python",
   "name": "tf"
  },
  "language_info": {
   "codemirror_mode": {
    "name": "ipython",
    "version": 3
   },
   "file_extension": ".py",
   "mimetype": "text/x-python",
   "name": "python",
   "nbconvert_exporter": "python",
   "pygments_lexer": "ipython3",
   "version": "3.6.12"
  }
 },
 "nbformat": 4,
 "nbformat_minor": 5
}
