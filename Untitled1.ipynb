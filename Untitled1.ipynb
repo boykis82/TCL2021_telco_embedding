{
 "cells": [
  {
   "cell_type": "code",
   "execution_count": 2,
   "id": "adjusted-isaac",
   "metadata": {},
   "outputs": [
    {
     "data": {
      "text/plain": [
       "['a', 'b']"
      ]
     },
     "execution_count": 2,
     "metadata": {},
     "output_type": "execute_result"
    }
   ],
   "source": [
    "a = 'a'\n",
    "b = 'b'\n",
    "c = None\n",
    "[f for f in [a,b,c] if f is not None]"
   ]
  },
  {
   "cell_type": "code",
   "execution_count": 63,
   "id": "sporting-subscriber",
   "metadata": {},
   "outputs": [],
   "source": [
    "import pandas as pd\n",
    "\n",
    "df = pd.read_excel('D:/data/변경계획서/chg_merged.xlsx', sheet_name=0, engine='openpyxl')"
   ]
  },
  {
   "cell_type": "code",
   "execution_count": 25,
   "id": "armed-evidence",
   "metadata": {},
   "outputs": [
    {
     "data": {
      "text/plain": [
       "제목                                SKT 17년 로밍정산개선(로밍청구수납1)\n",
       "변경내용    [ICT 승인 넘버: ICT-127]\\n1. 변경내용  \\n   1-1. SKT 1...\n",
       "Name: 0, dtype: object"
      ]
     },
     "execution_count": 25,
     "metadata": {},
     "output_type": "execute_result"
    }
   ],
   "source": [
    "df.loc[0]"
   ]
  },
  {
   "cell_type": "code",
   "execution_count": 35,
   "id": "disciplinary-monday",
   "metadata": {},
   "outputs": [
    {
     "data": {
      "text/plain": [
       "[0                                  SKT 17년 로밍정산개선(로밍청구수납1)\n",
       " 1                                            단독IPTV 청약예외적용\n",
       " 2                          [SKT 17년 로밍정산] 표준공정화작업 배정(백경래B)\n",
       " 3                           [SKT 17년 로밍정산] 표준공정작업 배정(홍선화C)\n",
       " 4                           [SKT 17년 로밍정산] 표준공정작업 배정(정안수C)\n",
       "                                ...                        \n",
       " 17933    [CTC][SKT][IVR][자체개선] Callback DB 연동 데몬 Log 패턴 수정\n",
       " 17934                                 비정상영업 감사화면 스윙 개선 요청건\n",
       " 17935                              [유선가입]비즈원 다회선 TV추가가입 개선\n",
       " 17936                           [상품] 다이얼링크 상품 서비스 및 요금제 개발\n",
       " 17937                          [상품/인터페이스] V컬러링플러스 기능 추가 반영\n",
       " Name: 제목, Length: 17938, dtype: object,\n",
       " 0        [ICT 승인 넘버: ICT-127]\\n1. 변경내용  \\n   1-1. SKT 1...\n",
       " 1        1. 변경내용  \\n   1-1. 단독IPTV 청약예외적용\\n           변...\n",
       " 2        1. 변경내용 [ICT 승인 넘버: ICT-127]\\n   1-1. SKT 17년 ...\n",
       " 3        SKT 17년 로밍정산개선\\n1. 변경내용  \\n\\n   [ICT 승인 넘버: IC...\n",
       " 4        1. 변경내용  \\n\\n   [ICT 승인 넘버: ICT-127]\\n\\n   1-1...\n",
       "                                ...                        \n",
       " 17933    1. 개요 : [CTC][SKT][IVR][자체개선] Callback DB 연동 데...\n",
       " 17934    1. 변경내용  \\n   1-1. 비정상영업감사 화면, DBIO \\n        ...\n",
       " 17935    1.  변경내용  \\n\\n   1-1. TV추가 가입 가용조회 제외\\n\\n     ...\n",
       " 17936    1. 변경내용  \\n   1-1. [상품] 다이얼링크 상품 서비스 및 요금제 개발\\...\n",
       " 17937    1. [상품/인터페이스] V컬러링플러스 기능 추가 반영\\n\\n   1-1. V컬러링...\n",
       " Name: 변경내용, Length: 17938, dtype: object]"
      ]
     },
     "execution_count": 35,
     "metadata": {},
     "output_type": "execute_result"
    }
   ],
   "source": [
    "[df.iloc[:,i] for i in range(df.shape[1])]"
   ]
  },
  {
   "cell_type": "code",
   "execution_count": 36,
   "id": "affecting-belize",
   "metadata": {},
   "outputs": [
    {
     "data": {
      "text/plain": [
       "0                                  SKT 17년 로밍정산개선(로밍청구수납1)\n",
       "1                                            단독IPTV 청약예외적용\n",
       "2                          [SKT 17년 로밍정산] 표준공정화작업 배정(백경래B)\n",
       "3                           [SKT 17년 로밍정산] 표준공정작업 배정(홍선화C)\n",
       "4                           [SKT 17년 로밍정산] 표준공정작업 배정(정안수C)\n",
       "                               ...                        \n",
       "17933    1. 개요 : [CTC][SKT][IVR][자체개선] Callback DB 연동 데...\n",
       "17934    1. 변경내용  \\n   1-1. 비정상영업감사 화면, DBIO \\n        ...\n",
       "17935    1.  변경내용  \\n\\n   1-1. TV추가 가입 가용조회 제외\\n\\n     ...\n",
       "17936    1. 변경내용  \\n   1-1. [상품] 다이얼링크 상품 서비스 및 요금제 개발\\...\n",
       "17937    1. [상품/인터페이스] V컬러링플러스 기능 추가 반영\\n\\n   1-1. V컬러링...\n",
       "Length: 35876, dtype: object"
      ]
     },
     "execution_count": 36,
     "metadata": {},
     "output_type": "execute_result"
    }
   ],
   "source": [
    "\n",
    "df2 = pd.concat( [df.iloc[:,i] for i in range(df.shape[1])] )\n",
    "df2"
   ]
  },
  {
   "cell_type": "code",
   "execution_count": 40,
   "id": "flexible-keeping",
   "metadata": {},
   "outputs": [
    {
     "data": {
      "text/plain": [
       "0                                  SKT 17년 로밍정산개선(로밍청구수납1)\n",
       "1                                            단독IPTV 청약예외적용\n",
       "2                          [SKT 17년 로밍정산] 표준공정화작업 배정(백경래B)\n",
       "3                           [SKT 17년 로밍정산] 표준공정작업 배정(홍선화C)\n",
       "4                           [SKT 17년 로밍정산] 표준공정작업 배정(정안수C)\n",
       "                               ...                        \n",
       "17933    1. 개요 : [CTC][SKT][IVR][자체개선] Callback DB 연동 데...\n",
       "17934    1. 변경내용  \\n   1-1. 비정상영업감사 화면, DBIO \\n        ...\n",
       "17935    1.  변경내용  \\n\\n   1-1. TV추가 가입 가용조회 제외\\n\\n     ...\n",
       "17936    1. 변경내용  \\n   1-1. [상품] 다이얼링크 상품 서비스 및 요금제 개발\\...\n",
       "17937    1. [상품/인터페이스] V컬러링플러스 기능 추가 반영\\n\\n   1-1. V컬러링...\n",
       "Length: 33583, dtype: object"
      ]
     },
     "execution_count": 40,
     "metadata": {},
     "output_type": "execute_result"
    }
   ],
   "source": [
    "    df2.drop_duplicates(keep='first', inplace=False)"
   ]
  },
  {
   "cell_type": "code",
   "execution_count": 41,
   "id": "thick-powder",
   "metadata": {},
   "outputs": [
    {
     "data": {
      "text/plain": [
       "[1, 2, 3]"
      ]
     },
     "execution_count": 41,
     "metadata": {},
     "output_type": "execute_result"
    }
   ],
   "source": [
    "a = [1,2]\n",
    "b = [3]\n",
    "a+b"
   ]
  },
  {
   "cell_type": "code",
   "execution_count": 66,
   "id": "executive-packing",
   "metadata": {},
   "outputs": [
    {
     "ename": "KeyError",
     "evalue": "'X'",
     "output_type": "error",
     "traceback": [
      "\u001b[1;31m---------------------------------------------------------------------------\u001b[0m",
      "\u001b[1;31mKeyError\u001b[0m                                  Traceback (most recent call last)",
      "\u001b[1;32m~\\Anaconda3\\envs\\tf\\lib\\site-packages\\pandas\\core\\indexes\\base.py\u001b[0m in \u001b[0;36mget_loc\u001b[1;34m(self, key, method, tolerance)\u001b[0m\n\u001b[0;32m   2897\u001b[0m             \u001b[1;32mtry\u001b[0m\u001b[1;33m:\u001b[0m\u001b[1;33m\u001b[0m\u001b[1;33m\u001b[0m\u001b[0m\n\u001b[1;32m-> 2898\u001b[1;33m                 \u001b[1;32mreturn\u001b[0m \u001b[0mself\u001b[0m\u001b[1;33m.\u001b[0m\u001b[0m_engine\u001b[0m\u001b[1;33m.\u001b[0m\u001b[0mget_loc\u001b[0m\u001b[1;33m(\u001b[0m\u001b[0mcasted_key\u001b[0m\u001b[1;33m)\u001b[0m\u001b[1;33m\u001b[0m\u001b[1;33m\u001b[0m\u001b[0m\n\u001b[0m\u001b[0;32m   2899\u001b[0m             \u001b[1;32mexcept\u001b[0m \u001b[0mKeyError\u001b[0m \u001b[1;32mas\u001b[0m \u001b[0merr\u001b[0m\u001b[1;33m:\u001b[0m\u001b[1;33m\u001b[0m\u001b[1;33m\u001b[0m\u001b[0m\n",
      "\u001b[1;32mpandas\\_libs\\index.pyx\u001b[0m in \u001b[0;36mpandas._libs.index.IndexEngine.get_loc\u001b[1;34m()\u001b[0m\n",
      "\u001b[1;32mpandas\\_libs\\index.pyx\u001b[0m in \u001b[0;36mpandas._libs.index.IndexEngine.get_loc\u001b[1;34m()\u001b[0m\n",
      "\u001b[1;32mpandas\\_libs\\hashtable_class_helper.pxi\u001b[0m in \u001b[0;36mpandas._libs.hashtable.PyObjectHashTable.get_item\u001b[1;34m()\u001b[0m\n",
      "\u001b[1;32mpandas\\_libs\\hashtable_class_helper.pxi\u001b[0m in \u001b[0;36mpandas._libs.hashtable.PyObjectHashTable.get_item\u001b[1;34m()\u001b[0m\n",
      "\u001b[1;31mKeyError\u001b[0m: 'X'",
      "\nThe above exception was the direct cause of the following exception:\n",
      "\u001b[1;31mKeyError\u001b[0m                                  Traceback (most recent call last)",
      "\u001b[1;32m<ipython-input-66-20a3963825fc>\u001b[0m in \u001b[0;36m<module>\u001b[1;34m\u001b[0m\n\u001b[0;32m      1\u001b[0m \u001b[1;32mfor\u001b[0m \u001b[0mc\u001b[0m \u001b[1;32min\u001b[0m \u001b[0mdf\u001b[0m\u001b[1;33m.\u001b[0m\u001b[0mcolumns\u001b[0m\u001b[1;33m:\u001b[0m\u001b[1;33m\u001b[0m\u001b[1;33m\u001b[0m\u001b[0m\n\u001b[1;32m----> 2\u001b[1;33m     \u001b[0mdf\u001b[0m\u001b[1;33m[\u001b[0m\u001b[1;34m'X'\u001b[0m\u001b[1;33m]\u001b[0m \u001b[1;33m=\u001b[0m \u001b[0mdf\u001b[0m\u001b[1;33m[\u001b[0m\u001b[1;34m'X'\u001b[0m\u001b[1;33m]\u001b[0m \u001b[1;33m+\u001b[0m \u001b[0mdf\u001b[0m\u001b[1;33m[\u001b[0m\u001b[0mc\u001b[0m\u001b[1;33m]\u001b[0m \u001b[1;33m+\u001b[0m \u001b[1;34m'.'\u001b[0m\u001b[1;33m\u001b[0m\u001b[1;33m\u001b[0m\u001b[0m\n\u001b[0m",
      "\u001b[1;32m~\\Anaconda3\\envs\\tf\\lib\\site-packages\\pandas\\core\\frame.py\u001b[0m in \u001b[0;36m__getitem__\u001b[1;34m(self, key)\u001b[0m\n\u001b[0;32m   2904\u001b[0m             \u001b[1;32mif\u001b[0m \u001b[0mself\u001b[0m\u001b[1;33m.\u001b[0m\u001b[0mcolumns\u001b[0m\u001b[1;33m.\u001b[0m\u001b[0mnlevels\u001b[0m \u001b[1;33m>\u001b[0m \u001b[1;36m1\u001b[0m\u001b[1;33m:\u001b[0m\u001b[1;33m\u001b[0m\u001b[1;33m\u001b[0m\u001b[0m\n\u001b[0;32m   2905\u001b[0m                 \u001b[1;32mreturn\u001b[0m \u001b[0mself\u001b[0m\u001b[1;33m.\u001b[0m\u001b[0m_getitem_multilevel\u001b[0m\u001b[1;33m(\u001b[0m\u001b[0mkey\u001b[0m\u001b[1;33m)\u001b[0m\u001b[1;33m\u001b[0m\u001b[1;33m\u001b[0m\u001b[0m\n\u001b[1;32m-> 2906\u001b[1;33m             \u001b[0mindexer\u001b[0m \u001b[1;33m=\u001b[0m \u001b[0mself\u001b[0m\u001b[1;33m.\u001b[0m\u001b[0mcolumns\u001b[0m\u001b[1;33m.\u001b[0m\u001b[0mget_loc\u001b[0m\u001b[1;33m(\u001b[0m\u001b[0mkey\u001b[0m\u001b[1;33m)\u001b[0m\u001b[1;33m\u001b[0m\u001b[1;33m\u001b[0m\u001b[0m\n\u001b[0m\u001b[0;32m   2907\u001b[0m             \u001b[1;32mif\u001b[0m \u001b[0mis_integer\u001b[0m\u001b[1;33m(\u001b[0m\u001b[0mindexer\u001b[0m\u001b[1;33m)\u001b[0m\u001b[1;33m:\u001b[0m\u001b[1;33m\u001b[0m\u001b[1;33m\u001b[0m\u001b[0m\n\u001b[0;32m   2908\u001b[0m                 \u001b[0mindexer\u001b[0m \u001b[1;33m=\u001b[0m \u001b[1;33m[\u001b[0m\u001b[0mindexer\u001b[0m\u001b[1;33m]\u001b[0m\u001b[1;33m\u001b[0m\u001b[1;33m\u001b[0m\u001b[0m\n",
      "\u001b[1;32m~\\Anaconda3\\envs\\tf\\lib\\site-packages\\pandas\\core\\indexes\\base.py\u001b[0m in \u001b[0;36mget_loc\u001b[1;34m(self, key, method, tolerance)\u001b[0m\n\u001b[0;32m   2898\u001b[0m                 \u001b[1;32mreturn\u001b[0m \u001b[0mself\u001b[0m\u001b[1;33m.\u001b[0m\u001b[0m_engine\u001b[0m\u001b[1;33m.\u001b[0m\u001b[0mget_loc\u001b[0m\u001b[1;33m(\u001b[0m\u001b[0mcasted_key\u001b[0m\u001b[1;33m)\u001b[0m\u001b[1;33m\u001b[0m\u001b[1;33m\u001b[0m\u001b[0m\n\u001b[0;32m   2899\u001b[0m             \u001b[1;32mexcept\u001b[0m \u001b[0mKeyError\u001b[0m \u001b[1;32mas\u001b[0m \u001b[0merr\u001b[0m\u001b[1;33m:\u001b[0m\u001b[1;33m\u001b[0m\u001b[1;33m\u001b[0m\u001b[0m\n\u001b[1;32m-> 2900\u001b[1;33m                 \u001b[1;32mraise\u001b[0m \u001b[0mKeyError\u001b[0m\u001b[1;33m(\u001b[0m\u001b[0mkey\u001b[0m\u001b[1;33m)\u001b[0m \u001b[1;32mfrom\u001b[0m \u001b[0merr\u001b[0m\u001b[1;33m\u001b[0m\u001b[1;33m\u001b[0m\u001b[0m\n\u001b[0m\u001b[0;32m   2901\u001b[0m \u001b[1;33m\u001b[0m\u001b[0m\n\u001b[0;32m   2902\u001b[0m         \u001b[1;32mif\u001b[0m \u001b[0mtolerance\u001b[0m \u001b[1;32mis\u001b[0m \u001b[1;32mnot\u001b[0m \u001b[1;32mNone\u001b[0m\u001b[1;33m:\u001b[0m\u001b[1;33m\u001b[0m\u001b[1;33m\u001b[0m\u001b[0m\n",
      "\u001b[1;31mKeyError\u001b[0m: 'X'"
     ]
    }
   ],
   "source": [
    "for c in df.columns:\n",
    "    df['X'] = df['X'] + df[c] + '.'"
   ]
  },
  {
   "cell_type": "code",
   "execution_count": 64,
   "id": "theoretical-testimony",
   "metadata": {},
   "outputs": [
    {
     "data": {
      "text/html": [
       "<div>\n",
       "<style scoped>\n",
       "    .dataframe tbody tr th:only-of-type {\n",
       "        vertical-align: middle;\n",
       "    }\n",
       "\n",
       "    .dataframe tbody tr th {\n",
       "        vertical-align: top;\n",
       "    }\n",
       "\n",
       "    .dataframe thead th {\n",
       "        text-align: right;\n",
       "    }\n",
       "</style>\n",
       "<table border=\"1\" class=\"dataframe\">\n",
       "  <thead>\n",
       "    <tr style=\"text-align: right;\">\n",
       "      <th></th>\n",
       "      <th>제목</th>\n",
       "      <th>변경내용</th>\n",
       "    </tr>\n",
       "  </thead>\n",
       "  <tbody>\n",
       "    <tr>\n",
       "      <th>0</th>\n",
       "      <td>SKT 17년 로밍정산개선(로밍청구수납1)</td>\n",
       "      <td>[ICT 승인 넘버: ICT-127]\\n1. 변경내용  \\n   1-1. SKT 1...</td>\n",
       "    </tr>\n",
       "    <tr>\n",
       "      <th>1</th>\n",
       "      <td>단독IPTV 청약예외적용</td>\n",
       "      <td>1. 변경내용  \\n   1-1. 단독IPTV 청약예외적용\\n           변...</td>\n",
       "    </tr>\n",
       "    <tr>\n",
       "      <th>2</th>\n",
       "      <td>[SKT 17년 로밍정산] 표준공정화작업 배정(백경래B)</td>\n",
       "      <td>1. 변경내용 [ICT 승인 넘버: ICT-127]\\n   1-1. SKT 17년 ...</td>\n",
       "    </tr>\n",
       "    <tr>\n",
       "      <th>3</th>\n",
       "      <td>[SKT 17년 로밍정산] 표준공정작업 배정(홍선화C)</td>\n",
       "      <td>SKT 17년 로밍정산개선\\n1. 변경내용  \\n\\n   [ICT 승인 넘버: IC...</td>\n",
       "    </tr>\n",
       "    <tr>\n",
       "      <th>4</th>\n",
       "      <td>[SKT 17년 로밍정산] 표준공정작업 배정(정안수C)</td>\n",
       "      <td>1. 변경내용  \\n\\n   [ICT 승인 넘버: ICT-127]\\n\\n   1-1...</td>\n",
       "    </tr>\n",
       "    <tr>\n",
       "      <th>...</th>\n",
       "      <td>...</td>\n",
       "      <td>...</td>\n",
       "    </tr>\n",
       "    <tr>\n",
       "      <th>17933</th>\n",
       "      <td>[CTC][SKT][IVR][자체개선] Callback DB 연동 데몬 Log 패턴 수정</td>\n",
       "      <td>1. 개요 : [CTC][SKT][IVR][자체개선] Callback DB 연동 데...</td>\n",
       "    </tr>\n",
       "    <tr>\n",
       "      <th>17934</th>\n",
       "      <td>비정상영업 감사화면 스윙 개선 요청건</td>\n",
       "      <td>1. 변경내용  \\n   1-1. 비정상영업감사 화면, DBIO \\n        ...</td>\n",
       "    </tr>\n",
       "    <tr>\n",
       "      <th>17935</th>\n",
       "      <td>[유선가입]비즈원 다회선 TV추가가입 개선</td>\n",
       "      <td>1.  변경내용  \\n\\n   1-1. TV추가 가입 가용조회 제외\\n\\n     ...</td>\n",
       "    </tr>\n",
       "    <tr>\n",
       "      <th>17936</th>\n",
       "      <td>[상품] 다이얼링크 상품 서비스 및 요금제 개발</td>\n",
       "      <td>1. 변경내용  \\n   1-1. [상품] 다이얼링크 상품 서비스 및 요금제 개발\\...</td>\n",
       "    </tr>\n",
       "    <tr>\n",
       "      <th>17937</th>\n",
       "      <td>[상품/인터페이스] V컬러링플러스 기능 추가 반영</td>\n",
       "      <td>1. [상품/인터페이스] V컬러링플러스 기능 추가 반영\\n\\n   1-1. V컬러링...</td>\n",
       "    </tr>\n",
       "  </tbody>\n",
       "</table>\n",
       "<p>17938 rows × 2 columns</p>\n",
       "</div>"
      ],
      "text/plain": [
       "                                                      제목  \\\n",
       "0                                SKT 17년 로밍정산개선(로밍청구수납1)   \n",
       "1                                          단독IPTV 청약예외적용   \n",
       "2                        [SKT 17년 로밍정산] 표준공정화작업 배정(백경래B)   \n",
       "3                         [SKT 17년 로밍정산] 표준공정작업 배정(홍선화C)   \n",
       "4                         [SKT 17년 로밍정산] 표준공정작업 배정(정안수C)   \n",
       "...                                                  ...   \n",
       "17933  [CTC][SKT][IVR][자체개선] Callback DB 연동 데몬 Log 패턴 수정   \n",
       "17934                               비정상영업 감사화면 스윙 개선 요청건   \n",
       "17935                            [유선가입]비즈원 다회선 TV추가가입 개선   \n",
       "17936                         [상품] 다이얼링크 상품 서비스 및 요금제 개발   \n",
       "17937                        [상품/인터페이스] V컬러링플러스 기능 추가 반영   \n",
       "\n",
       "                                                    변경내용  \n",
       "0      [ICT 승인 넘버: ICT-127]\\n1. 변경내용  \\n   1-1. SKT 1...  \n",
       "1      1. 변경내용  \\n   1-1. 단독IPTV 청약예외적용\\n           변...  \n",
       "2      1. 변경내용 [ICT 승인 넘버: ICT-127]\\n   1-1. SKT 17년 ...  \n",
       "3      SKT 17년 로밍정산개선\\n1. 변경내용  \\n\\n   [ICT 승인 넘버: IC...  \n",
       "4      1. 변경내용  \\n\\n   [ICT 승인 넘버: ICT-127]\\n\\n   1-1...  \n",
       "...                                                  ...  \n",
       "17933  1. 개요 : [CTC][SKT][IVR][자체개선] Callback DB 연동 데...  \n",
       "17934  1. 변경내용  \\n   1-1. 비정상영업감사 화면, DBIO \\n        ...  \n",
       "17935  1.  변경내용  \\n\\n   1-1. TV추가 가입 가용조회 제외\\n\\n     ...  \n",
       "17936  1. 변경내용  \\n   1-1. [상품] 다이얼링크 상품 서비스 및 요금제 개발\\...  \n",
       "17937  1. [상품/인터페이스] V컬러링플러스 기능 추가 반영\\n\\n   1-1. V컬러링...  \n",
       "\n",
       "[17938 rows x 2 columns]"
      ]
     },
     "execution_count": 64,
     "metadata": {},
     "output_type": "execute_result"
    }
   ],
   "source": [
    "df"
   ]
  },
  {
   "cell_type": "code",
   "execution_count": 59,
   "id": "living-pastor",
   "metadata": {},
   "outputs": [
    {
     "data": {
      "text/plain": [
       "3"
      ]
     },
     "execution_count": 59,
     "metadata": {},
     "output_type": "execute_result"
    }
   ],
   "source": [
    "a = ['.'.join(str(df[c])) for c in df.columns]\n"
   ]
  },
  {
   "cell_type": "code",
   "execution_count": 3,
   "id": "negative-north",
   "metadata": {},
   "outputs": [
    {
     "data": {
      "text/plain": [
       "('D:/data/SOR/dataset/sor_dataset', '.xlsx')"
      ]
     },
     "execution_count": 3,
     "metadata": {},
     "output_type": "execute_result"
    }
   ],
   "source": [
    "import os \n",
    "\n",
    "a = 'D:/data/SOR/dataset/sor_dataset.xlsx'\n",
    "os.path.splitext(a)"
   ]
  }
 ],
 "metadata": {
  "kernelspec": {
   "display_name": "tf",
   "language": "python",
   "name": "tf"
  },
  "language_info": {
   "codemirror_mode": {
    "name": "ipython",
    "version": 3
   },
   "file_extension": ".py",
   "mimetype": "text/x-python",
   "name": "python",
   "nbconvert_exporter": "python",
   "pygments_lexer": "ipython3",
   "version": "3.6.12"
  }
 },
 "nbformat": 4,
 "nbformat_minor": 5
}
