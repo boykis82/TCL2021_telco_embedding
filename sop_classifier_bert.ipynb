{
 "cells": [
  {
   "cell_type": "code",
   "execution_count": 25,
   "metadata": {},
   "outputs": [],
   "source": [
    "from torch.utils.data import DataLoader\n",
    "\n",
    "from bert_pytorch.model import ALBERT, ALBERTLM\n",
    "from bert_pytorch.trainer import BERTTrainer\n",
    "from bert_pytorch.dataset import ALBERTDataset, WordVocab\n",
    "\n",
    "import torch\n",
    "import torch.nn as nn\n",
    "from torch.utils.data import Dataset\n",
    "\n",
    "# numpy & pandas\n",
    "import numpy as np\n",
    "import pandas as pd\n",
    "\n",
    "# scikit learn\n",
    "from sklearn.model_selection import train_test_split\n",
    "from sklearn import preprocessing\n",
    "\n",
    "import textlib as tl\n",
    "\n"
   ]
  },
  {
   "cell_type": "code",
   "execution_count": 27,
   "metadata": {},
   "outputs": [
    {
     "ename": "NameError",
     "evalue": "name 'self' is not defined",
     "output_type": "error",
     "traceback": [
      "\u001b[1;31m---------------------------------------------------------------------------\u001b[0m",
      "\u001b[1;31mNameError\u001b[0m                                 Traceback (most recent call last)",
      "\u001b[1;32m<ipython-input-27-ef91096d2841>\u001b[0m in \u001b[0;36m<module>\u001b[1;34m\u001b[0m\n\u001b[0;32m      1\u001b[0m \u001b[0mbert\u001b[0m \u001b[1;33m=\u001b[0m \u001b[0mALBERT\u001b[0m\u001b[1;33m(\u001b[0m\u001b[0mvocab_size\u001b[0m\u001b[1;33m=\u001b[0m\u001b[1;36m10000\u001b[0m\u001b[1;33m,\u001b[0m \u001b[0membed_size\u001b[0m\u001b[1;33m=\u001b[0m\u001b[1;36m128\u001b[0m\u001b[1;33m,\u001b[0m \u001b[0mhidden\u001b[0m\u001b[1;33m=\u001b[0m\u001b[1;36m256\u001b[0m\u001b[1;33m,\u001b[0m \u001b[0mn_layers\u001b[0m\u001b[1;33m=\u001b[0m\u001b[1;36m6\u001b[0m\u001b[1;33m,\u001b[0m \u001b[0mattn_heads\u001b[0m\u001b[1;33m=\u001b[0m\u001b[1;36m8\u001b[0m\u001b[1;33m,\u001b[0m \u001b[0mseq_len\u001b[0m\u001b[1;33m=\u001b[0m\u001b[1;36m128\u001b[0m\u001b[1;33m)\u001b[0m\u001b[1;33m\u001b[0m\u001b[1;33m\u001b[0m\u001b[0m\n\u001b[1;32m----> 2\u001b[1;33m \u001b[0mmodel\u001b[0m \u001b[1;33m=\u001b[0m \u001b[0mALBERTLM\u001b[0m\u001b[1;33m(\u001b[0m\u001b[0mbert\u001b[0m\u001b[1;33m,\u001b[0m \u001b[1;36m128\u001b[0m\u001b[1;33m,\u001b[0m \u001b[0mlen\u001b[0m\u001b[1;33m(\u001b[0m\u001b[0mself\u001b[0m\u001b[1;33m.\u001b[0m\u001b[0mvocab\u001b[0m\u001b[1;33m)\u001b[0m\u001b[1;33m)\u001b[0m\u001b[1;33m.\u001b[0m\u001b[0mto\u001b[0m\u001b[1;33m(\u001b[0m\u001b[0mdevice\u001b[0m\u001b[1;33m)\u001b[0m\u001b[1;33m\u001b[0m\u001b[1;33m\u001b[0m\u001b[0m\n\u001b[0m",
      "\u001b[1;31mNameError\u001b[0m: name 'self' is not defined"
     ]
    }
   ],
   "source": [
    "bert = ALBERT(vocab_size=10000, embed_size=128, hidden=256, n_layers=6, attn_heads=8, seq_len=128)\n",
    "model = ALBERTLM(bert, 128, len(vocab)).to(device)"
   ]
  },
  {
   "cell_type": "code",
   "execution_count": 6,
   "metadata": {
    "scrolled": false
   },
   "outputs": [],
   "source": [
    "bert = torch.load('../TCL2021_Telco_Embedding_Dataset/albert_model/bert.model.ep0')"
   ]
  },
  {
   "cell_type": "code",
   "execution_count": 49,
   "metadata": {},
   "outputs": [
    {
     "data": {
      "text/plain": [
       "(64, 128, 256)"
      ]
     },
     "execution_count": 49,
     "metadata": {},
     "output_type": "execute_result"
    }
   ],
   "source": [
    "x = np.zeros((64,128,256), dtype=np.float32)\n",
    "x.shape"
   ]
  },
  {
   "cell_type": "code",
   "execution_count": 50,
   "metadata": {},
   "outputs": [],
   "source": [
    "fc   = nn.Linear(256, 256)\n",
    "act  = nn.Tanh()\n",
    "clsf = nn.Linear(256, 2)      "
   ]
  },
  {
   "cell_type": "code",
   "execution_count": 56,
   "metadata": {},
   "outputs": [
    {
     "name": "stderr",
     "output_type": "stream",
     "text": [
      "<ipython-input-56-427790486214>:1: UserWarning: To copy construct from a tensor, it is recommended to use sourceTensor.clone().detach() or sourceTensor.clone().detach().requires_grad_(True), rather than torch.tensor(sourceTensor).\n",
      "  h = fc(torch.tensor(x))\n"
     ]
    },
    {
     "data": {
      "text/plain": [
       "tensor([[-8.8738,  3.8576],\n",
       "        [-8.8738,  3.8576],\n",
       "        [-8.8738,  3.8576],\n",
       "        [-8.8738,  3.8576],\n",
       "        [-8.8738,  3.8576],\n",
       "        [-8.8738,  3.8576],\n",
       "        [-8.8738,  3.8576],\n",
       "        [-8.8738,  3.8576],\n",
       "        [-8.8738,  3.8576],\n",
       "        [-8.8738,  3.8576],\n",
       "        [-8.8738,  3.8576],\n",
       "        [-8.8738,  3.8576],\n",
       "        [-8.8738,  3.8576],\n",
       "        [-8.8738,  3.8576],\n",
       "        [-8.8738,  3.8576],\n",
       "        [-8.8738,  3.8576],\n",
       "        [-8.8738,  3.8576],\n",
       "        [-8.8738,  3.8576],\n",
       "        [-8.8738,  3.8576],\n",
       "        [-8.8738,  3.8576],\n",
       "        [-8.8738,  3.8576],\n",
       "        [-8.8738,  3.8576],\n",
       "        [-8.8738,  3.8576],\n",
       "        [-8.8738,  3.8576],\n",
       "        [-8.8738,  3.8576],\n",
       "        [-8.8738,  3.8576],\n",
       "        [-8.8738,  3.8576],\n",
       "        [-8.8738,  3.8576],\n",
       "        [-8.8738,  3.8576],\n",
       "        [-8.8738,  3.8576],\n",
       "        [-8.8738,  3.8576],\n",
       "        [-8.8738,  3.8576],\n",
       "        [-8.8738,  3.8576],\n",
       "        [-8.8738,  3.8576],\n",
       "        [-8.8738,  3.8576],\n",
       "        [-8.8738,  3.8576],\n",
       "        [-8.8738,  3.8576],\n",
       "        [-8.8738,  3.8576],\n",
       "        [-8.8738,  3.8576],\n",
       "        [-8.8738,  3.8576],\n",
       "        [-8.8738,  3.8576],\n",
       "        [-8.8738,  3.8576],\n",
       "        [-8.8738,  3.8576],\n",
       "        [-8.8738,  3.8576],\n",
       "        [-8.8738,  3.8576],\n",
       "        [-8.8738,  3.8576],\n",
       "        [-8.8738,  3.8576],\n",
       "        [-8.8738,  3.8576],\n",
       "        [-8.8738,  3.8576],\n",
       "        [-8.8738,  3.8576],\n",
       "        [-8.8738,  3.8576],\n",
       "        [-8.8738,  3.8576],\n",
       "        [-8.8738,  3.8576],\n",
       "        [-8.8738,  3.8576],\n",
       "        [-8.8738,  3.8576],\n",
       "        [-8.8738,  3.8576],\n",
       "        [-8.8738,  3.8576],\n",
       "        [-8.8738,  3.8576],\n",
       "        [-8.8738,  3.8576],\n",
       "        [-8.8738,  3.8576],\n",
       "        [-8.8738,  3.8576],\n",
       "        [-8.8738,  3.8576],\n",
       "        [-8.8738,  3.8576],\n",
       "        [-8.8738,  3.8576]], grad_fn=<SumBackward1>)"
      ]
     },
     "execution_count": 56,
     "metadata": {},
     "output_type": "execute_result"
    }
   ],
   "source": [
    "h = fc(torch.tensor(x))\n",
    "h.shape\n",
    "h = act(h)\n",
    "h.shape\n",
    "h = clsf(h)\n",
    "h.shape\n",
    "h = torch.sum(h, dim=1)\n",
    "h.shape\n",
    "h"
   ]
  },
  {
   "cell_type": "code",
   "execution_count": null,
   "metadata": {},
   "outputs": [],
   "source": [
    "class SOPClassifier(nn.Module):\n",
    "    def __init__(self, bert: BERT, num_class):\n",
    "        super().__init__()\n",
    "        self.bert = bert\n",
    "        self.decode = nn.Linear(self.bert.hidden, num_class)\n",
    "        self.softmax = nn.LogSoftmax(dim=-1)\n",
    "        \n",
    "    def forward(self, x, segment_label):\n",
    "        x = self.bert(x, segment_label)\n",
    "        out = self.softmax(self.decode(x[:, 0]))\n",
    "        return out    "
   ]
  },
  {
   "cell_type": "code",
   "execution_count": 8,
   "metadata": {},
   "outputs": [
    {
     "name": "stdout",
     "output_type": "stream",
     "text": [
      "torch.Size([64, 256])\n",
      "torch.Size([64, 128, 256])\n"
     ]
    }
   ],
   "source": [
    "x = torch.zeros([64,128], dtype=torch.int32)\n",
    "s = torch.zeros([64,128], dtype=torch.int32)\n",
    "\n",
    "decode = nn.Linear(bert.hidden, 37)\n",
    "softmax = nn.LogSoftmax(dim=-1)\n",
    "\n",
    "x = bert(x, s)\n",
    "print( x[:,0].shape )\n",
    "print( x.shape )\n"
   ]
  },
  {
   "cell_type": "code",
   "execution_count": null,
   "metadata": {},
   "outputs": [],
   "source": [
    "vocab_path = '../../TCL2021_Telco_Embedding_Dataset/corpora/telco_vocab.dat'\n",
    "vocab = WordVocab.load_vocab(vocab_path)"
   ]
  },
  {
   "cell_type": "code",
   "execution_count": null,
   "metadata": {},
   "outputs": [],
   "source": [
    "# sop dataset 읽어옴\n",
    "input_file_name = '../../TCL2021_Telco_Embedding_Dataset/dataset/sop_dataset.xlsx'\n",
    "try:\n",
    "    df = pd.read_excel(input_file_name, sheet_name=0, engine='openpyxl')\n",
    "except FileNotFoundError:\n",
    "    print(f'{input_file_name}이 없습니다! skip!')\n",
    "\n",
    "print( df.shape )\n"
   ]
  },
  {
   "cell_type": "code",
   "execution_count": null,
   "metadata": {},
   "outputs": [],
   "source": [
    "# 첫 모델은 sentence와 label만 써보자\n",
    "# df_zip = df[ ['sentence', 'label'] ]\n",
    "\n",
    "y = df.pop('label_clean')\n",
    "X = df.pop('sentence')\n",
    "\n",
    "# 문자열로 되어 있는 label을 categorical value로 변환\n",
    "label_encoder = preprocessing.LabelEncoder()\n",
    "y = label_encoder.fit_transform(y)"
   ]
  },
  {
   "cell_type": "code",
   "execution_count": null,
   "metadata": {},
   "outputs": [],
   "source": [
    "# train / test 분리\n",
    "X_train, X_test, y_train, y_test = \\\n",
    "    train_test_split(X, y, test_size=0.2, random_state=42, stratify=y)"
   ]
  },
  {
   "cell_type": "code",
   "execution_count": null,
   "metadata": {},
   "outputs": [],
   "source": [
    "class SOPDataset(Dataset):\n",
    "    def __init__(self, X, y, vocab, seq_len):\n",
    "        self.vocab = vocab\n",
    "        self.seq_len = seq_len\n",
    "        self.X = []\n",
    "        self.y = y\n",
    "        \n",
    "        for i, text in enumerate(X):\n",
    "            try:\n",
    "                # 클렌징\n",
    "                cleansed_text = tl.clean_text(text)\n",
    "            except TypeError:\n",
    "                print(f'      {i+1} 번째 데이터에 문제가 있어 skip!')\n",
    "                continue\n",
    "\n",
    "            # 문장으로 분리하여 배열로 리턴\n",
    "            sentences = tl.segment_sentences(cleansed_text)\n",
    "            # 문장 배열을 입릭으로 받아 형태소로 쪼갠 뒤, 다시 하나의 문자열로 변환하여 저장\n",
    "            corpora = ' '.join(tl.get_corpora(sentences, None, True)).split(' ')\n",
    "            self.X.append(corpora)            \n",
    "            \n",
    "    def __len__(self):\n",
    "        return len(self.X)\n",
    "    \n",
    "    def __getitem__(self, item):\n",
    "        X = self.X[item]\n",
    "        # token to id\n",
    "        X = [self.vocab.stoi.get(token, self.vocab.unk_index) for token in X]        \n",
    "        # [sos] token ids... [eos]\n",
    "        X = [self.vocab.sos_index] + X + [self.vocab.eos_index]\n",
    "        \n",
    "        inp = X[:self.seq_len]\n",
    "        seg = [1] * self.seq_len\n",
    "        \n",
    "        padding = [self.vocab.pad_index for _ in range(self.seq_len - len(inp))]\n",
    "        inp.extend(padding), seg.extend(padding)\n",
    "        \n",
    "        output = {'inp': inp,\n",
    "                  'seg': seg,\n",
    "                  'label': y}\n",
    "\n",
    "        return {key: torch.tensor(value) for key, value in output.items()}        "
   ]
  },
  {
   "cell_type": "code",
   "execution_count": null,
   "metadata": {},
   "outputs": [],
   "source": [
    "train_dataset = SOPDataset(X_train, y_train, vocab, 128)\n",
    "test_dataset = SOPDataset(X_test, y_test, vocab, 128)"
   ]
  },
  {
   "cell_type": "code",
   "execution_count": null,
   "metadata": {},
   "outputs": [],
   "source": [
    "train_dataset = BERTDataset(args.train_dataset, vocab, \n",
    "                              seq_len=args.seq_len)\n",
    "\n",
    "train_sampler = WeightedRandomSampler(train_dataset.weights, \n",
    "                                    train_dataset.data_size)\n",
    "\n",
    "train_data_loader = DataLoader(train_dataset, \n",
    "                               batch_size=args.batch_size, \n",
    "                               sampler=train_sampler, \n",
    "                               num_workers=args.num_workers, \n",
    "                               pin_memory=True)"
   ]
  }
 ],
 "metadata": {
  "kernelspec": {
   "display_name": "tf",
   "language": "python",
   "name": "tf"
  },
  "language_info": {
   "codemirror_mode": {
    "name": "ipython",
    "version": 3
   },
   "file_extension": ".py",
   "mimetype": "text/x-python",
   "name": "python",
   "nbconvert_exporter": "python",
   "pygments_lexer": "ipython3",
   "version": "3.8.8"
  }
 },
 "nbformat": 4,
 "nbformat_minor": 4
}
